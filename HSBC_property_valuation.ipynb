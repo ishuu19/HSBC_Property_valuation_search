{
 "cells": [
  {
   "cell_type": "code",
   "execution_count": 1,
   "id": "ad712cfb",
   "metadata": {},
   "outputs": [],
   "source": [
    "import requests\n",
    "import json"
   ]
  },
  {
   "cell_type": "code",
   "execution_count": null,
   "id": "3a5575a2",
   "metadata": {},
   "outputs": [],
   "source": []
  },
  {
   "cell_type": "code",
   "execution_count": 50,
   "id": "ed849b37",
   "metadata": {},
   "outputs": [
    {
     "name": "stdout",
     "output_type": "stream",
     "text": [
      "The Valuation of the property in Flat D,9/F,Block/Tower 2,Bailey Garden,Hung Hom,Kowloon is: $6340000 HKD\n"
     ]
    }
   ],
   "source": [
    "def get_hsbc_valuation(zoneId, districtId, estateId, blockId, floor, flat):\n",
    "    headers = {\n",
    "        'Connection': 'keep-alive',\n",
    "        'sec-ch-ua': '\"Google Chrome\";v=\"95\", \"Chromium\";v=\"95\", \";Not A Brand\";v=\"99\"',\n",
    "        'X-HSBC-Chnl-CountryCode': 'HK',\n",
    "        'X-HSBC-Src-UserAgent': '',\n",
    "        'X-HSBC-Src-Device-Id': '',\n",
    "        'X-HSBC-Channel-Id': 'PWS',\n",
    "        'User-Agent': 'Mozilla/5.0 (Macintosh; Intel Mac OS X 10_15_7) AppleWebKit/537.36 (KHTML, like Gecko) Chrome/95.0.4638.69 Safari/537.36',\n",
    "        'X-HSBC-Locale': 'en_HK',\n",
    "        'content-type': 'application/json',\n",
    "        'Accept': 'application/json, text/javascript, */*; q=0.01',\n",
    "        'X-HSBC-Chnl-Group-Member': '',\n",
    "        'sec-ch-ua-mobile': '?0',\n",
    "        'sec-ch-ua-platform': '\"macOS\"',\n",
    "        'Origin': 'https://www.hsbc.com.hk/',\n",
    "        'Sec-Fetch-Site': 'cross-site',\n",
    "        'Sec-Fetch-Mode': 'cors',\n",
    "        'Sec-Fetch-Dest': 'empty',\n",
    "        'Referer': 'https://www.hsbc.com.hk/',\n",
    "        'Accept-Language': 'en-GB,en-US;q=0.9,en;q=0.8',\n",
    "        }\n",
    "\n",
    "    data = {\n",
    "        'blockId': blockId,\n",
    "        'districtId': districtId,\n",
    "        'estateId': estateId,\n",
    "        'flat': flat,\n",
    "        'floor': floor,\n",
    "        'locale': 'en_HK',\n",
    "        'zoneId': zoneId\n",
    "    }\n",
    "\n",
    "    response = requests.post('https://rbwm-api.hsbc.com.hk/digital-pws-tools-mortgages-eapi-prod-proxy/v1/mortgages/property-valuation', headers=headers, json=data)\n",
    "    result = response.json()\n",
    "    print(f'The Valuation of the property in {result[\"propAddr\"]} is: ${int(result[\"valn\"])} HKD')\n",
    "\n",
    "\n",
    "get_hsbc_valuation(\"2\", \"22\", \"693\", \"nil,6185,nil\", \"9\", \"D\")\n",
    "\n"
   ]
  },
  {
   "cell_type": "code",
   "execution_count": null,
   "id": "06ba835d",
   "metadata": {},
   "outputs": [],
   "source": []
  }
 ],
 "metadata": {
  "kernelspec": {
   "display_name": "Python 3 (ipykernel)",
   "language": "python",
   "name": "python3"
  },
  "language_info": {
   "codemirror_mode": {
    "name": "ipython",
    "version": 3
   },
   "file_extension": ".py",
   "mimetype": "text/x-python",
   "name": "python",
   "nbconvert_exporter": "python",
   "pygments_lexer": "ipython3",
   "version": "3.11.3"
  }
 },
 "nbformat": 4,
 "nbformat_minor": 5
}
